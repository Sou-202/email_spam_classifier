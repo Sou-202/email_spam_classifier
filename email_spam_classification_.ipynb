{
 "cells": [
  {
   "cell_type": "markdown",
   "metadata": {},
   "source": [
    "## Project Summary\n",
    "\n",
    "We study the spam classification using decision tree and support vector machine. We tested our results on a publically available dataset and we reported the accuracy and the confusion matrices of both classifiers. Our metric for a successfull classsife is \"low false positive rate\" (false positive means the classifer sees the email as spam whereas the email is legit). Our analysis indicates that false positive in the decision on the our data gives us 0.07 where false postive rate on SVM is 0.15. Hence we recomend utilizing decision tree in the final production. While our analysis here is limited in terms of the number of classifiers and the size of the dataset, decision tree classifeir perform well and can potentially be utilized in applications.\n"
   ]
  },
  {
   "cell_type": "code",
   "execution_count": 1,
   "metadata": {},
   "outputs": [],
   "source": [
    "import pandas as pd"
   ]
  },
  {
   "cell_type": "markdown",
   "metadata": {},
   "source": [
    "#### Data Description :\n",
    "In the classification problem I used a spam database available at the UCI Machine Learning repository : \n",
    "\n",
    "https://archive.ics.uci.edu/ml/datasets/spambase\n",
    "\n",
    "The data consists of $57$ numerical attributes. The features can be divided into 3 categories : $(1)$ the frequency of specific keywords in an email sample, $(2)$ the frequency of certain characters, and $(3)$ the average run length of a string of capitals. The number of instances this data set is $4601$. Each instance is labeled as either spam ($1$) or legitimate ($0$)."
   ]
  },
  {
   "cell_type": "markdown",
   "metadata": {},
   "source": [
    "\n",
    "Here we are loading the data using panda command :read_csv \n"
   ]
  },
  {
   "cell_type": "code",
   "execution_count": 2,
   "metadata": {},
   "outputs": [],
   "source": [
    "data = pd.read_csv('C:/data/spambase.data', sep=\",\", header=None)\n",
    "\n"
   ]
  },
  {
   "cell_type": "markdown",
   "metadata": {},
   "source": [
    "We now show where and how we got the above numbers."
   ]
  },
  {
   "cell_type": "code",
   "execution_count": 3,
   "metadata": {},
   "outputs": [
    {
     "data": {
      "text/html": [
       "<div>\n",
       "<style scoped>\n",
       "    .dataframe tbody tr th:only-of-type {\n",
       "        vertical-align: middle;\n",
       "    }\n",
       "\n",
       "    .dataframe tbody tr th {\n",
       "        vertical-align: top;\n",
       "    }\n",
       "\n",
       "    .dataframe thead th {\n",
       "        text-align: right;\n",
       "    }\n",
       "</style>\n",
       "<table border=\"1\" class=\"dataframe\">\n",
       "  <thead>\n",
       "    <tr style=\"text-align: right;\">\n",
       "      <th></th>\n",
       "      <th>0</th>\n",
       "      <th>1</th>\n",
       "      <th>2</th>\n",
       "      <th>3</th>\n",
       "      <th>4</th>\n",
       "      <th>5</th>\n",
       "      <th>6</th>\n",
       "      <th>7</th>\n",
       "      <th>8</th>\n",
       "      <th>9</th>\n",
       "      <th>...</th>\n",
       "      <th>48</th>\n",
       "      <th>49</th>\n",
       "      <th>50</th>\n",
       "      <th>51</th>\n",
       "      <th>52</th>\n",
       "      <th>53</th>\n",
       "      <th>54</th>\n",
       "      <th>55</th>\n",
       "      <th>56</th>\n",
       "      <th>57</th>\n",
       "    </tr>\n",
       "  </thead>\n",
       "  <tbody>\n",
       "    <tr>\n",
       "      <th>0</th>\n",
       "      <td>0.00</td>\n",
       "      <td>0.64</td>\n",
       "      <td>0.64</td>\n",
       "      <td>0.0</td>\n",
       "      <td>0.32</td>\n",
       "      <td>0.00</td>\n",
       "      <td>0.00</td>\n",
       "      <td>0.00</td>\n",
       "      <td>0.00</td>\n",
       "      <td>0.00</td>\n",
       "      <td>...</td>\n",
       "      <td>0.00</td>\n",
       "      <td>0.000</td>\n",
       "      <td>0.0</td>\n",
       "      <td>0.778</td>\n",
       "      <td>0.000</td>\n",
       "      <td>0.000</td>\n",
       "      <td>3.756</td>\n",
       "      <td>61</td>\n",
       "      <td>278</td>\n",
       "      <td>1</td>\n",
       "    </tr>\n",
       "    <tr>\n",
       "      <th>1</th>\n",
       "      <td>0.21</td>\n",
       "      <td>0.28</td>\n",
       "      <td>0.50</td>\n",
       "      <td>0.0</td>\n",
       "      <td>0.14</td>\n",
       "      <td>0.28</td>\n",
       "      <td>0.21</td>\n",
       "      <td>0.07</td>\n",
       "      <td>0.00</td>\n",
       "      <td>0.94</td>\n",
       "      <td>...</td>\n",
       "      <td>0.00</td>\n",
       "      <td>0.132</td>\n",
       "      <td>0.0</td>\n",
       "      <td>0.372</td>\n",
       "      <td>0.180</td>\n",
       "      <td>0.048</td>\n",
       "      <td>5.114</td>\n",
       "      <td>101</td>\n",
       "      <td>1028</td>\n",
       "      <td>1</td>\n",
       "    </tr>\n",
       "    <tr>\n",
       "      <th>2</th>\n",
       "      <td>0.06</td>\n",
       "      <td>0.00</td>\n",
       "      <td>0.71</td>\n",
       "      <td>0.0</td>\n",
       "      <td>1.23</td>\n",
       "      <td>0.19</td>\n",
       "      <td>0.19</td>\n",
       "      <td>0.12</td>\n",
       "      <td>0.64</td>\n",
       "      <td>0.25</td>\n",
       "      <td>...</td>\n",
       "      <td>0.01</td>\n",
       "      <td>0.143</td>\n",
       "      <td>0.0</td>\n",
       "      <td>0.276</td>\n",
       "      <td>0.184</td>\n",
       "      <td>0.010</td>\n",
       "      <td>9.821</td>\n",
       "      <td>485</td>\n",
       "      <td>2259</td>\n",
       "      <td>1</td>\n",
       "    </tr>\n",
       "    <tr>\n",
       "      <th>3</th>\n",
       "      <td>0.00</td>\n",
       "      <td>0.00</td>\n",
       "      <td>0.00</td>\n",
       "      <td>0.0</td>\n",
       "      <td>0.63</td>\n",
       "      <td>0.00</td>\n",
       "      <td>0.31</td>\n",
       "      <td>0.63</td>\n",
       "      <td>0.31</td>\n",
       "      <td>0.63</td>\n",
       "      <td>...</td>\n",
       "      <td>0.00</td>\n",
       "      <td>0.137</td>\n",
       "      <td>0.0</td>\n",
       "      <td>0.137</td>\n",
       "      <td>0.000</td>\n",
       "      <td>0.000</td>\n",
       "      <td>3.537</td>\n",
       "      <td>40</td>\n",
       "      <td>191</td>\n",
       "      <td>1</td>\n",
       "    </tr>\n",
       "    <tr>\n",
       "      <th>4</th>\n",
       "      <td>0.00</td>\n",
       "      <td>0.00</td>\n",
       "      <td>0.00</td>\n",
       "      <td>0.0</td>\n",
       "      <td>0.63</td>\n",
       "      <td>0.00</td>\n",
       "      <td>0.31</td>\n",
       "      <td>0.63</td>\n",
       "      <td>0.31</td>\n",
       "      <td>0.63</td>\n",
       "      <td>...</td>\n",
       "      <td>0.00</td>\n",
       "      <td>0.135</td>\n",
       "      <td>0.0</td>\n",
       "      <td>0.135</td>\n",
       "      <td>0.000</td>\n",
       "      <td>0.000</td>\n",
       "      <td>3.537</td>\n",
       "      <td>40</td>\n",
       "      <td>191</td>\n",
       "      <td>1</td>\n",
       "    </tr>\n",
       "  </tbody>\n",
       "</table>\n",
       "<p>5 rows × 58 columns</p>\n",
       "</div>"
      ],
      "text/plain": [
       "     0     1     2    3     4     5     6     7     8     9   ...    48  \\\n",
       "0  0.00  0.64  0.64  0.0  0.32  0.00  0.00  0.00  0.00  0.00  ...  0.00   \n",
       "1  0.21  0.28  0.50  0.0  0.14  0.28  0.21  0.07  0.00  0.94  ...  0.00   \n",
       "2  0.06  0.00  0.71  0.0  1.23  0.19  0.19  0.12  0.64  0.25  ...  0.01   \n",
       "3  0.00  0.00  0.00  0.0  0.63  0.00  0.31  0.63  0.31  0.63  ...  0.00   \n",
       "4  0.00  0.00  0.00  0.0  0.63  0.00  0.31  0.63  0.31  0.63  ...  0.00   \n",
       "\n",
       "      49   50     51     52     53     54   55    56  57  \n",
       "0  0.000  0.0  0.778  0.000  0.000  3.756   61   278   1  \n",
       "1  0.132  0.0  0.372  0.180  0.048  5.114  101  1028   1  \n",
       "2  0.143  0.0  0.276  0.184  0.010  9.821  485  2259   1  \n",
       "3  0.137  0.0  0.137  0.000  0.000  3.537   40   191   1  \n",
       "4  0.135  0.0  0.135  0.000  0.000  3.537   40   191   1  \n",
       "\n",
       "[5 rows x 58 columns]"
      ]
     },
     "execution_count": 3,
     "metadata": {},
     "output_type": "execute_result"
    }
   ],
   "source": [
    "# lets take a look at the data first to get a feeling of it :\n",
    "data.head()"
   ]
  },
  {
   "cell_type": "code",
   "execution_count": 4,
   "metadata": {},
   "outputs": [
    {
     "data": {
      "text/plain": [
       "(4601, 58)"
      ]
     },
     "execution_count": 4,
     "metadata": {},
     "output_type": "execute_result"
    }
   ],
   "source": [
    "# we now inspect the shape of this dataset :\n",
    "data.shape"
   ]
  },
  {
   "cell_type": "markdown",
   "metadata": {},
   "source": [
    "As can be seen here the data consists of 4601 rows and 58 columns. The columns are numbered from 0 to 57. The columns 0\n",
    "to 56 are the features that represent the numerical properties of the email. Whereas the last column represent the label of the email.\n",
    "According the documentation of the this dataset (1) represent a spam email and (0) represents a legit email."
   ]
  },
  {
   "cell_type": "markdown",
   "metadata": {},
   "source": [
    "## Data Prepration for the sci-kit learn library"
   ]
  },
  {
   "cell_type": "code",
   "execution_count": 5,
   "metadata": {},
   "outputs": [
    {
     "name": "stdout",
     "output_type": "stream",
     "text": [
      "0    1\n",
      "1    1\n",
      "2    1\n",
      "3    1\n",
      "4    1\n",
      "Name: 57, dtype: int64\n",
      "the shape of the label dataset :\n",
      "(4601,)\n"
     ]
    }
   ],
   "source": [
    "# extracting the labels from the dataset:\n",
    "labels = data[data.columns[-1]]\n",
    "# converting the labels Dataframe to numpy array. We use the scikit learn convention and we will use the notation Y for this data.\n",
    "Y=labels.to_numpy()\n",
    "\n",
    "print(labels.head())\n",
    "\n",
    "print(\"the shape of the label dataset :\")\n",
    "print(labels.shape)"
   ]
  },
  {
   "cell_type": "code",
   "execution_count": 6,
   "metadata": {},
   "outputs": [
    {
     "name": "stdout",
     "output_type": "stream",
     "text": [
      "     0     1     2    3     4     5     6     7     8     9   ...   47    48  \\\n",
      "0  0.00  0.64  0.64  0.0  0.32  0.00  0.00  0.00  0.00  0.00  ...  0.0  0.00   \n",
      "1  0.21  0.28  0.50  0.0  0.14  0.28  0.21  0.07  0.00  0.94  ...  0.0  0.00   \n",
      "2  0.06  0.00  0.71  0.0  1.23  0.19  0.19  0.12  0.64  0.25  ...  0.0  0.01   \n",
      "3  0.00  0.00  0.00  0.0  0.63  0.00  0.31  0.63  0.31  0.63  ...  0.0  0.00   \n",
      "4  0.00  0.00  0.00  0.0  0.63  0.00  0.31  0.63  0.31  0.63  ...  0.0  0.00   \n",
      "\n",
      "      49   50     51     52     53     54   55    56  \n",
      "0  0.000  0.0  0.778  0.000  0.000  3.756   61   278  \n",
      "1  0.132  0.0  0.372  0.180  0.048  5.114  101  1028  \n",
      "2  0.143  0.0  0.276  0.184  0.010  9.821  485  2259  \n",
      "3  0.137  0.0  0.137  0.000  0.000  3.537   40   191  \n",
      "4  0.135  0.0  0.135  0.000  0.000  3.537   40   191  \n",
      "\n",
      "[5 rows x 57 columns]\n",
      "------------------------------------------\n",
      "The shape of the features dataset :\n",
      "(4601, 57)\n"
     ]
    }
   ],
   "source": [
    "# extracting the features from the dataset:\n",
    "features = data[data.columns[:-1]]\n",
    "\n",
    "# converting the features Dataframe to numpy array. We use the scikit learn convention and we will use the notation X for this data.\n",
    "X=features.to_numpy()\n",
    "\n",
    "print(features.head())\n",
    "print(\"------------------------------------------\")\n",
    "print(\"The shape of the features dataset :\")\n",
    "print(X.shape)"
   ]
  },
  {
   "cell_type": "markdown",
   "metadata": {},
   "source": [
    "### Splitting the data into training and testing datasets\n",
    "we now split the data into testing and training datasets. We choose the ratio 60 for training and 40 for testing.\n"
   ]
  },
  {
   "cell_type": "code",
   "execution_count": 7,
   "metadata": {},
   "outputs": [
    {
     "name": "stdout",
     "output_type": "stream",
     "text": [
      "training data X shape  (2760, 57)\n",
      "test data X shape  (1841, 57)\n",
      "training data Y shape  (2760,)\n",
      "test data Y shape  (1841,)\n"
     ]
    }
   ],
   "source": [
    "\n",
    "from sklearn.model_selection import train_test_split\n",
    "from sklearn.metrics import accuracy_score\n",
    "X_train, X_test, y_train, y_test = \\\n",
    "        train_test_split(X, Y, test_size=.4, random_state=42)\n",
    "\n",
    "print(\"training data X shape \", X_train.shape)\n",
    "print(\"test data X shape \", X_test.shape)\n",
    "\n",
    "print(\"training data Y shape \", y_train.shape)\n",
    "print(\"test data Y shape \", y_test.shape)"
   ]
  },
  {
   "cell_type": "code",
   "execution_count": 8,
   "metadata": {},
   "outputs": [],
   "source": [
    "# I will start by doing some initial analysis on this data with a decision tree classifier.\n",
    "\n",
    "\n",
    "from sklearn import tree\n",
    "\n",
    "clf = tree.DecisionTreeClassifier()\n",
    "clf = clf.fit(X_train, y_train)"
   ]
  },
  {
   "cell_type": "code",
   "execution_count": 9,
   "metadata": {},
   "outputs": [],
   "source": [
    "y_pred=clf.predict(X_test)"
   ]
  },
  {
   "cell_type": "code",
   "execution_count": 10,
   "metadata": {},
   "outputs": [],
   "source": [
    "# we now inspect the confusion matrix for spam and legit emails:\n",
    "\n",
    "from sklearn.metrics import plot_confusion_matrix\n",
    "import matplotlib.pyplot as plt"
   ]
  },
  {
   "cell_type": "code",
   "execution_count": 11,
   "metadata": {},
   "outputs": [
    {
     "name": "stdout",
     "output_type": "stream",
     "text": [
      "[[0.9164371  0.0835629 ]\n",
      " [0.10239362 0.89760638]]\n"
     ]
    },
    {
     "data": {
      "image/png": "[encoded data removed]",
      "text/plain": [
       "<Figure size 432x288 with 2 Axes>"
      ]
     },
     "metadata": {
      "needs_background": "light"
     },
     "output_type": "display_data"
    }
   ],
   "source": [
    "\n",
    "disp = plot_confusion_matrix(clf, X_test, y_test,\n",
    "                                 display_labels=[\"Legit\",\"Spam\"],\n",
    "                                 cmap=plt.cm.Blues,\n",
    "                                 normalize=\"true\")\n",
    "disp.ax_.set_title(\"Confusion matrix for decision tree classifier\")\n",
    "\n",
    "\n",
    "print(disp.confusion_matrix)\n",
    "\n",
    "plt.show()"
   ]
  },
  {
   "cell_type": "code",
   "execution_count": 12,
   "metadata": {
    "scrolled": true
   },
   "outputs": [
    {
     "data": {
      "text/plain": [
       "array([0, 0, 0, ..., 1, 1, 0], dtype=int64)"
      ]
     },
     "execution_count": 12,
     "metadata": {},
     "output_type": "execute_result"
    }
   ],
   "source": [
    "#y_test_predict = dsp.predict(X_test)\n",
    "y_pred"
   ]
  },
  {
   "cell_type": "code",
   "execution_count": 13,
   "metadata": {},
   "outputs": [
    {
     "data": {
      "text/plain": [
       "0.908745247148289"
      ]
     },
     "execution_count": 13,
     "metadata": {},
     "output_type": "execute_result"
    }
   ],
   "source": [
    "#from sklearn.metrics import accuracy_score\n",
    "accuracy_score(y_test, y_pred)"
   ]
  },
  {
   "cell_type": "markdown",
   "metadata": {},
   "source": [
    "We now inspect the classification report for the classifier we trained.\n",
    " I used the wikipedia page to help me with the definitions of precision and recall :\n",
    "https://en.wikipedia.org/wiki/Precision_and_recall"
   ]
  },
  {
   "cell_type": "code",
   "execution_count": 14,
   "metadata": {},
   "outputs": [
    {
     "name": "stdout",
     "output_type": "stream",
     "text": [
      "Decision tree classification report\n",
      "              precision    recall  f1-score   support\n",
      "\n",
      "       Legit       0.93      0.92      0.92      1089\n",
      "        Spam       0.88      0.90      0.89       752\n",
      "\n",
      "    accuracy                           0.91      1841\n",
      "   macro avg       0.90      0.91      0.91      1841\n",
      "weighted avg       0.91      0.91      0.91      1841\n",
      "\n"
     ]
    }
   ],
   "source": [
    "from sklearn.metrics import classification_report\n",
    "target_names = ['Legit', 'Spam']\n",
    "print(\"Decision tree classification report\")\n",
    "print(classification_report(y_test, y_pred, target_names=target_names))"
   ]
  },
  {
   "cell_type": "code",
   "execution_count": null,
   "metadata": {},
   "outputs": [],
   "source": [
    "      "
   ]
  },
  {
   "cell_type": "markdown",
   "metadata": {},
   "source": [
    "We ranked the features in the decision tree using the document avaiable at : \n",
    "    https://scikit-learn.org/stable/auto_examples/ensemble/plot_forest_importances.html"
   ]
  },
  {
   "cell_type": "code",
   "execution_count": 15,
   "metadata": {},
   "outputs": [
    {
     "name": "stdout",
     "output_type": "stream",
     "text": [
      "Feature ranking:\n",
      "1. feature 52 (0.338272)\n",
      "2. feature 6 (0.163540)\n",
      "3. feature 51 (0.086229)\n",
      "4. feature 24 (0.056104)\n",
      "5. feature 54 (0.052486)\n",
      "6. feature 15 (0.032559)\n",
      "7. feature 55 (0.028597)\n",
      "8. feature 18 (0.026229)\n",
      "9. feature 4 (0.021211)\n",
      "10. feature 26 (0.019916)\n",
      "11. feature 56 (0.019772)\n",
      "12. feature 45 (0.013942)\n",
      "13. feature 20 (0.013209)\n",
      "14. feature 49 (0.011393)\n",
      "15. feature 34 (0.009410)\n",
      "16. feature 11 (0.006888)\n",
      "17. feature 25 (0.006704)\n",
      "18. feature 44 (0.006373)\n",
      "19. feature 16 (0.006233)\n",
      "20. feature 35 (0.005822)\n",
      "21. feature 38 (0.005786)\n",
      "22. feature 10 (0.004960)\n",
      "23. feature 8 (0.004863)\n",
      "24. feature 17 (0.004517)\n",
      "25. feature 27 (0.004512)\n",
      "26. feature 9 (0.004470)\n",
      "27. feature 2 (0.004395)\n",
      "28. feature 22 (0.004287)\n",
      "29. feature 47 (0.004242)\n",
      "30. feature 3 (0.003906)\n",
      "31. feature 7 (0.003817)\n",
      "32. feature 0 (0.002944)\n",
      "33. feature 5 (0.002497)\n",
      "34. feature 29 (0.001992)\n",
      "35. feature 23 (0.001980)\n",
      "36. feature 21 (0.001970)\n",
      "37. feature 36 (0.001848)\n",
      "38. feature 43 (0.001529)\n",
      "39. feature 46 (0.001515)\n",
      "40. feature 14 (0.001448)\n",
      "41. feature 40 (0.001418)\n",
      "42. feature 1 (0.001392)\n",
      "43. feature 12 (0.001320)\n",
      "44. feature 48 (0.001022)\n",
      "45. feature 50 (0.001022)\n",
      "46. feature 41 (0.000766)\n",
      "47. feature 42 (0.000695)\n",
      "48. feature 13 (0.000000)\n",
      "49. feature 37 (0.000000)\n",
      "50. feature 39 (0.000000)\n",
      "51. feature 33 (0.000000)\n",
      "52. feature 32 (0.000000)\n",
      "53. feature 19 (0.000000)\n",
      "54. feature 31 (0.000000)\n",
      "55. feature 53 (0.000000)\n",
      "56. feature 30 (0.000000)\n",
      "57. feature 28 (0.000000)\n"
     ]
    },
    {
     "data": {
      "image/png": "[encoded data removed]",
      "text/plain": [
       "<Figure size 1440x360 with 1 Axes>"
      ]
     },
     "metadata": {
      "needs_background": "light"
     },
     "output_type": "display_data"
    }
   ],
   "source": [
    "import numpy as np\n",
    "import matplotlib.pyplot as plt\n",
    "\n",
    "importances = clf.feature_importances_\n",
    "\n",
    "indices = np.argsort(importances)[::-1]\n",
    "\n",
    "# Print the feature ranking\n",
    "print(\"Feature ranking:\")\n",
    "\n",
    "for f in range(X.shape[1]):\n",
    "    print(\"%d. feature %d (%f)\" % (f + 1, indices[f], importances[indices[f]]))\n",
    "\n",
    "# Plot the impurity-based feature importances of the forest\n",
    "plt.figure(figsize=(20,5))\n",
    "plt.title(\"Feature importances\")\n",
    "plt.bar(range(X.shape[1]), importances[indices],\n",
    "        color=\"r\", align=\"center\")\n",
    "plt.xticks(range(X.shape[1]), indices,rotation=90)\n",
    "plt.xlabel('feature column index')\n",
    "plt.ylabel('feature importance')\n",
    "plt.xlim([-1, X.shape[1]])\n",
    "\n",
    "SMALL_SIZE = 8\n",
    "MEDIUM_SIZE = 10\n",
    "BIGGER_SIZE = 25\n",
    "plt.rc('font', size=BIGGER_SIZE)          # controls default text sizes\n",
    "plt.rc('xtick', labelsize=MEDIUM_SIZE)    # fontsize of the tick labels\n",
    "plt.rc('ytick', labelsize=MEDIUM_SIZE)    # fontsize of the tick labels\n",
    "plt.rc('figure', titlesize=BIGGER_SIZE)  # fontsize of the figure title\n",
    "\n",
    "plt.show()"
   ]
  },
  {
   "cell_type": "markdown",
   "metadata": {},
   "source": [
    "we see from the above figure that the features 52, 6 and 51 are the most important features in classifications. \n",
    "The importances of these feature are :\n",
    "        \n",
    "1. feature 52 (0.336858)\n",
    "2. feature 6 (0.162518)\n",
    "3. feature 51 (0.086059)"
   ]
  },
  {
   "cell_type": "markdown",
   "metadata": {},
   "source": [
    "# Gaussian Naive Bayes"
   ]
  },
  {
   "cell_type": "code",
   "execution_count": 16,
   "metadata": {},
   "outputs": [],
   "source": [
    "from sklearn.naive_bayes import GaussianNB\n",
    "gnb = GaussianNB()"
   ]
  },
  {
   "cell_type": "markdown",
   "metadata": {},
   "source": [
    "### Fit and Predict the model"
   ]
  },
  {
   "cell_type": "code",
   "execution_count": 17,
   "metadata": {},
   "outputs": [],
   "source": [
    "gnb.fit(X_train, y_train)\n",
    "gnb_y_pred= gnb.predict(X_test)"
   ]
  },
  {
   "cell_type": "markdown",
   "metadata": {},
   "source": [
    "### Classification report"
   ]
  },
  {
   "cell_type": "code",
   "execution_count": 33,
   "metadata": {},
   "outputs": [
    {
     "name": "stdout",
     "output_type": "stream",
     "text": [
      "Gaussian Naive Bayes classification report\n",
      "              precision    recall  f1-score   support\n",
      "\n",
      "       Legit       0.96      0.72      0.82      1089\n",
      "        Spam       0.70      0.95      0.81       752\n",
      "\n",
      "    accuracy                           0.82      1841\n",
      "   macro avg       0.83      0.84      0.82      1841\n",
      "weighted avg       0.85      0.82      0.82      1841\n",
      "\n"
     ]
    }
   ],
   "source": [
    "print(\"Gaussian Naive Bayes classification report\")\n",
    "\n",
    "print(classification_report(y_test, gnb_y_pred, target_names=[\"Legit\",\"Spam\"] ))"
   ]
  },
  {
   "cell_type": "code",
   "execution_count": 19,
   "metadata": {},
   "outputs": [
    {
     "name": "stdout",
     "output_type": "stream",
     "text": [
      "[[0.72176309 0.27823691]\n",
      " [0.04521277 0.95478723]]\n"
     ]
    },
    {
     "data": {
      "image/png": "[encoded data removed]",
      "text/plain": [
       "<Figure size 432x288 with 2 Axes>"
      ]
     },
     "metadata": {
      "needs_background": "light"
     },
     "output_type": "display_data"
    }
   ],
   "source": [
    "\n",
    "disp = plot_confusion_matrix(gnb, X_test, y_test,\n",
    "                                 display_labels=[\"Legit\",\"Spam\"],\n",
    "                                 cmap=plt.cm.Blues,\n",
    "                                 normalize=\"true\")\n",
    "disp.ax_.set_title(\"Confusion matrix for GaussianNB classifier\")\n",
    "\n",
    "print(disp.confusion_matrix)\n",
    "\n",
    "plt.show()"
   ]
  },
  {
   "cell_type": "markdown",
   "metadata": {},
   "source": [
    "# k-nearest neighbor"
   ]
  },
  {
   "cell_type": "code",
   "execution_count": 20,
   "metadata": {},
   "outputs": [],
   "source": [
    "from sklearn.neighbors import KNeighborsClassifier\n",
    "neigh_model = KNeighborsClassifier(n_neighbors=3)\n"
   ]
  },
  {
   "cell_type": "code",
   "execution_count": 21,
   "metadata": {},
   "outputs": [
    {
     "data": {
      "text/plain": [
       "KNeighborsClassifier(algorithm='auto', leaf_size=30, metric='minkowski',\n",
       "                     metric_params=None, n_jobs=None, n_neighbors=5, p=2,\n",
       "                     weights='uniform')"
      ]
     },
     "execution_count": 21,
     "metadata": {},
     "output_type": "execute_result"
    }
   ],
   "source": [
    "neigh_model=KNeighborsClassifier()\n",
    "neigh_model.fit(X_train, y_train)"
   ]
  },
  {
   "cell_type": "code",
   "execution_count": 22,
   "metadata": {},
   "outputs": [],
   "source": [
    "gnb_y_predy=neigh_model.predict(X_test)"
   ]
  },
  {
   "cell_type": "code",
   "execution_count": 32,
   "metadata": {},
   "outputs": [
    {
     "name": "stdout",
     "output_type": "stream",
     "text": [
      "KNN classification report\n",
      "              precision    recall  f1-score   support\n",
      "\n",
      "       Legit       0.79      0.83      0.81      1089\n",
      "        Spam       0.74      0.69      0.71       752\n",
      "\n",
      "    accuracy                           0.77      1841\n",
      "   macro avg       0.77      0.76      0.76      1841\n",
      "weighted avg       0.77      0.77      0.77      1841\n",
      "\n"
     ]
    }
   ],
   "source": [
    "print(\"KNN classification report\")\n",
    "\n",
    "print(classification_report(y_test, gnb_y_predy, target_names=[\"Legit\",\"Spam\"] ))"
   ]
  },
  {
   "cell_type": "code",
   "execution_count": 25,
   "metadata": {},
   "outputs": [
    {
     "name": "stdout",
     "output_type": "stream",
     "text": [
      "[[0.83195592 0.16804408]\n",
      " [0.31117021 0.68882979]]\n"
     ]
    },
    {
     "data": {
      "image/png": "[encoded data removed]",
      "text/plain": [
       "<Figure size 432x288 with 2 Axes>"
      ]
     },
     "metadata": {
      "needs_background": "light"
     },
     "output_type": "display_data"
    }
   ],
   "source": [
    "disp = plot_confusion_matrix(neigh_model, X_test, y_test,\n",
    "                                 display_labels=[\"Legit\",\"Spam\"],\n",
    "                                 cmap=plt.cm.Blues,\n",
    "                                 normalize=\"true\")\n",
    "disp.ax_.set_title(\"Confusion matrix for KNN classifier\")\n",
    "\n",
    "print(disp.confusion_matrix)\n",
    "\n",
    "plt.show()"
   ]
  },
  {
   "cell_type": "markdown",
   "metadata": {},
   "source": [
    "## Support vector machine model for spam classification"
   ]
  },
  {
   "cell_type": "markdown",
   "metadata": {},
   "source": [
    "We now do the support vector machine (SVM) study on our data and see if we can get a better result than the decision tree that we had\n",
    "earlier."
   ]
  },
  {
   "cell_type": "code",
   "execution_count": 26,
   "metadata": {},
   "outputs": [],
   "source": [
    "# load the model :\n",
    "from sklearn.svm import SVC\n",
    "\n",
    "clf_svm = SVC(C=1000.0, class_weight='balanced', gamma=0.005)\n",
    "clf_svm = clf_svm.fit(X_train, y_train)\n"
   ]
  },
  {
   "cell_type": "markdown",
   "metadata": {},
   "source": [
    "We now fit the SVM model :"
   ]
  },
  {
   "cell_type": "code",
   "execution_count": 27,
   "metadata": {},
   "outputs": [],
   "source": [
    "y_pred=clf_svm.predict(X_test)"
   ]
  },
  {
   "cell_type": "markdown",
   "metadata": {},
   "source": [
    "Now we plot the results and inspect which model performs better :"
   ]
  },
  {
   "cell_type": "code",
   "execution_count": 28,
   "metadata": {},
   "outputs": [
    {
     "name": "stdout",
     "output_type": "stream",
     "text": [
      "[[0.85491276 0.14508724]\n",
      " [0.15957447 0.84042553]]\n"
     ]
    },
    {
     "data": {
      "image/png": "[encoded data removed]",
      "text/plain": [
       "<Figure size 432x288 with 2 Axes>"
      ]
     },
     "metadata": {
      "needs_background": "light"
     },
     "output_type": "display_data"
    }
   ],
   "source": [
    "\n",
    "disp = plot_confusion_matrix(clf_svm, X_test, y_test,\n",
    "                                 display_labels=[\"Legit\",\"Spam\"],\n",
    "                                 cmap=plt.cm.Blues,\n",
    "                                 normalize=\"true\")\n",
    "disp.ax_.set_title(\"Confusion matrix for SVM classifier\")\n",
    "\n",
    "print(disp.confusion_matrix)\n",
    "\n",
    "plt.show()"
   ]
  },
  {
   "cell_type": "code",
   "execution_count": null,
   "metadata": {},
   "outputs": [],
   "source": []
  },
  {
   "cell_type": "code",
   "execution_count": 31,
   "metadata": {},
   "outputs": [
    {
     "name": "stdout",
     "output_type": "stream",
     "text": [
      "SVM classification report\n",
      "              precision    recall  f1-score   support\n",
      "\n",
      "       Legit       0.89      0.85      0.87      1089\n",
      "        Spam       0.80      0.84      0.82       752\n",
      "\n",
      "    accuracy                           0.85      1841\n",
      "   macro avg       0.84      0.85      0.84      1841\n",
      "weighted avg       0.85      0.85      0.85      1841\n",
      "\n"
     ]
    }
   ],
   "source": [
    "from sklearn.metrics import classification_report\n",
    "target_names = ['Legit', 'Spam']\n",
    "print(\"SVM classification report\")\n",
    "print(classification_report(y_test, y_pred, target_names=target_names))"
   ]
  },
  {
   "cell_type": "markdown",
   "metadata": {},
   "source": [
    "#### Machine Learning Conclusion \n",
    "From the confusion matrices of the decision tree and the SVM we see that the decision tree has better results for and less false positive and false negative detection of spam emails."
   ]
  },
  {
   "cell_type": "markdown",
   "metadata": {},
   "source": [
    "#### A brief summary of the finding \n"
   ]
  },
  {
   "cell_type": "markdown",
   "metadata": {},
   "source": [
    " \n",
    "We study the spam classification using decision tree and support vector machine. We tested our results on a publically available dataset and we reported the accuracy and the confusion matrices of both classifiers.\n",
    "Our metric for a successfull classsife is \"low false\n",
    "positive rate\" (false positive means the classifer sees the email as spam whereas the email is legit). Our analysis indicates that false positive in the decision on the our data gives us 0.07 where false postive rate on SVM is 0.15.\n",
    "Hence we recomend utilizing decision tree in the final production. While our analysis here is limited in terms of the number of classifiers and the size of the dataset, decision tree classifeir perform \n",
    "well and can potentially be utilized in applications. "
   ]
  },
  {
   "cell_type": "markdown",
   "metadata": {},
   "source": [
    "### Managerial insights: answer the \"so what?\" question.\n",
    "##### Convince the reader that your findings can be used to improve operations and increase profit. Points are awarded based on clarity, brevity, and how actionable your findings are."
   ]
  },
  {
   "cell_type": "markdown",
   "metadata": {},
   "source": [
    "According to Dataprot(1) email spam costs businesses $20.5 billion every year.\n",
    "That is a serious problem - if we keep that in mind while we analyze our models, we will definitely go with the decision tree classifier as it has \"low false positive rate\".In other words, its True positive and True negative are higher or closer to 1 compared to other classifers.Therefore, it is relaiable model where its accurancy is high in preventing data breaching.\n",
    "\n",
    "In addition to saving us fortunes of money from potential data breach, using this classifier will protect our personal, customers, and business partners data. It will also cause business interruptions can cost us losing time and money and there is a big chance that our customers/business partners will not trust doing business with us anymore. \n",
    "\n",
    "If our data is compromised we will not only lose comapny's tangible and untangible assets. We could cost our customers and business partners fortunes as they have to deal with all that comes with their stolen data(identity theft is a major problem).\n",
    "I attached a link(2) to more information /statistics on this issue to go over with the upper managers. "
   ]
  },
  {
   "cell_type": "markdown",
   "metadata": {},
   "source": [
    "(1)https://dataprot.net/statistics/spam-statistics/\n",
    "\n",
    "(2)https://securityboulevard.com/2020/12/staggering-phishing-statistics-in-2020/#:~:text=The%20Shocking%20Phishing%20Statistics%20of%202020&text=Only%203%25%20of%20the%20users,the%20malicious%20link%20or%20attachment.\n",
    "    "
   ]
  }
 ],
 "metadata": {
  "kernelspec": {
   "display_name": "Python 3",
   "language": "python",
   "name": "python3"
  },
  "language_info": {
   "codemirror_mode": {
    "name": "ipython",
    "version": 3
   },
   "file_extension": ".py",
   "mimetype": "text/x-python",
   "name": "python",
   "nbconvert_exporter": "python",
   "pygments_lexer": "ipython3",
   "version": "3.7.6"
  }
 },
 "nbformat": 4,
 "nbformat_minor": 4
}
